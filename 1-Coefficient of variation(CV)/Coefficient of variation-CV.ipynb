{
 "cells": [
  {
   "cell_type": "code",
   "execution_count": 1,
   "id": "539f413e",
   "metadata": {},
   "outputs": [],
   "source": [
    "import numpy as np\n",
    "import matplotlib.pyplot as plt\n",
    "import pandas as pd"
   ]
  },
  {
   "cell_type": "code",
   "execution_count": 5,
   "id": "bd4cd2de",
   "metadata": {},
   "outputs": [],
   "source": [
    "# Read data from CSV\n",
    "df = pd.read_csv('synthetic_porosity_data.csv')\n",
    "porosity = df['Porosity']"
   ]
  },
  {
   "cell_type": "code",
   "execution_count": 3,
   "id": "e0e64a30",
   "metadata": {},
   "outputs": [
    {
     "name": "stdout",
     "output_type": "stream",
     "text": [
      "Mean porosity: 11.84%\n",
      "Std deviation: 3.37%\n",
      "Coefficient of variation: 0.29\n"
     ]
    }
   ],
   "source": [
    "# Basic statistics that tell a story\n",
    "print(f\"Mean porosity: {np.mean(porosity):.2f}%\")\n",
    "print(f\"Std deviation: {np.std(porosity):.2f}%\")\n",
    "print(f\"Coefficient of variation: {np.std(porosity)/np.mean(porosity):.2f}\")\n",
    "\n",
    "# The CV tells us about reservoir heterogeneity!"
   ]
  },
  {
   "cell_type": "code",
   "execution_count": null,
   "id": "4c609ce3",
   "metadata": {},
   "outputs": [],
   "source": []
  }
 ],
 "metadata": {
  "kernelspec": {
   "display_name": "GravEnv",
   "language": "python",
   "name": "gravenv"
  },
  "language_info": {
   "codemirror_mode": {
    "name": "ipython",
    "version": 3
   },
   "file_extension": ".py",
   "mimetype": "text/x-python",
   "name": "python",
   "nbconvert_exporter": "python",
   "pygments_lexer": "ipython3",
   "version": "3.9.12"
  }
 },
 "nbformat": 4,
 "nbformat_minor": 5
}
