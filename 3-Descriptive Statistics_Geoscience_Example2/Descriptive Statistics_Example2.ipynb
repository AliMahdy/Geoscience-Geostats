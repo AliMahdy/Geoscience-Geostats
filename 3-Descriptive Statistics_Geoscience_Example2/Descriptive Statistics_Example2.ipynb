{
 "cells": [
  {
   "cell_type": "code",
   "execution_count": 1,
   "id": "bf515b1b",
   "metadata": {},
   "outputs": [],
   "source": [
    "import numpy as np\n",
    "import pandas as pd"
   ]
  },
  {
   "cell_type": "code",
   "execution_count": 2,
   "id": "a90185fb",
   "metadata": {},
   "outputs": [
    {
     "name": "stdout",
     "output_type": "stream",
     "text": [
      "Porosity Data (n=40):\n",
      "[12.5 14.2 13.8 11.9 15.1 13.  14.5 12.8 16.  13.5 14.  12.2 15.5 13.3\n",
      " 14.8 11.5 16.2 13.9 14.7 12.  17.1 13.1 14.9 12.6 15.8 13.6 14.3 11.8\n",
      " 16.5 13.2 15.  12.9 15.3 13.7 14.6 11.7 16.1 13.4 14.4 12.1]\n",
      "\n"
     ]
    }
   ],
   "source": [
    "# Synthetic porosity data from a sandstone core (%)\n",
    "porosity_data = np.array([\n",
    "12.5, 14.2, 13.8, 11.9, 15.1, 13.0, 14.5, 12.8, 16.0, 13.5,\n",
    "14.0, 12.2, 15.5, 13.3, 14.8, 11.5, 16.2, 13.9, 14.7, 12.0,\n",
    "17.1, 13.1, 14.9, 12.6, 15.8, 13.6, 14.3, 11.8, 16.5, 13.2,\n",
    "15.0, 12.9, 15.3, 13.7, 14.6, 11.7, 16.1, 13.4, 14.4, 12.1\n",
    "])\n",
    "print(f\"Porosity Data (n={len(porosity_data)}):\\n{porosity_data}\\n\")"
   ]
  },
  {
   "cell_type": "code",
   "execution_count": 3,
   "id": "0231b8d5",
   "metadata": {},
   "outputs": [],
   "source": [
    "# Calculate measures of central tendency\n",
    "mean_porosity = np.mean(porosity_data)\n",
    "median_porosity = np.median(porosity_data)"
   ]
  },
  {
   "cell_type": "code",
   "execution_count": 5,
   "id": "f86e4a60",
   "metadata": {},
   "outputs": [
    {
     "name": "stdout",
     "output_type": "stream",
     "text": [
      "Mean Porosity: 13.94%\n",
      "Median Porosity: 13.85%\n",
      "Mode Porosity: [np.float64(12.5), np.float64(14.2), np.float64(13.8), np.float64(11.9), np.float64(15.1), np.float64(13.0), np.float64(14.5), np.float64(12.8), np.float64(16.0), np.float64(13.5), np.float64(14.0), np.float64(12.2), np.float64(15.5), np.float64(13.3), np.float64(14.8), np.float64(11.5), np.float64(16.2), np.float64(13.9), np.float64(14.7), np.float64(12.0), np.float64(17.1), np.float64(13.1), np.float64(14.9), np.float64(12.6), np.float64(15.8), np.float64(13.6), np.float64(14.3), np.float64(11.8), np.float64(16.5), np.float64(13.2), np.float64(15.0), np.float64(12.9), np.float64(15.3), np.float64(13.7), np.float64(14.6), np.float64(11.7), np.float64(16.1), np.float64(13.4), np.float64(14.4), np.float64(12.1)]\\% (if multiple, all are listed)\n"
     ]
    }
   ],
   "source": [
    "# For mode, we can use scipy.stats, but for simple arrays, we can count\n",
    "from collections import Counter\n",
    "counts = Counter(porosity_data)\n",
    "mode_porosity = [key for key, value in counts.items() if value ==\n",
    "max(counts.values())]\n",
    "print(f\"Mean Porosity: {mean_porosity:.2f}%\")\n",
    "print(f\"Median Porosity: {median_porosity:.2f}%\")\n",
    "print(f\"Mode Porosity: {mode_porosity}\\% (if multiple, all are listed)\")"
   ]
  },
  {
   "cell_type": "code",
   "execution_count": 6,
   "id": "bc0d0141",
   "metadata": {},
   "outputs": [
    {
     "name": "stdout",
     "output_type": "stream",
     "text": [
      "Range: 5.60%\n",
      "Variance: 2.09\n",
      "Standard Deviation: 1.45%\n"
     ]
    }
   ],
   "source": [
    "# Calculate measures of dispersion\n",
    "range_porosity = np.max(porosity_data) - np.min(porosity_data)\n",
    "variance_porosity = np.var(porosity_data)\n",
    "std_dev_porosity = np.std(porosity_data)\n",
    "print(f\"Range: {range_porosity:.2f}%\")\n",
    "print(f\"Variance: {variance_porosity:.2f}\")\n",
    "print(f\"Standard Deviation: {std_dev_porosity:.2f}%\")"
   ]
  },
  {
   "cell_type": "code",
   "execution_count": 7,
   "id": "c3b4283c",
   "metadata": {},
   "outputs": [
    {
     "name": "stdout",
     "output_type": "stream",
     "text": [
      "\n",
      "Pandas describe() output:\n",
      "count    40.00000\n",
      "mean     13.93750\n",
      "std       1.46352\n",
      "min      11.50000\n",
      "25%      12.87500\n",
      "50%      13.85000\n",
      "75%      14.92500\n",
      "max      17.10000\n",
      "dtype: float64\n"
     ]
    }
   ],
   "source": [
    "# Using pandas describe() for a quick summary\n",
    "porosity_series = pd.Series(porosity_data)\n",
    "print(\"\\nPandas describe() output:\")\n",
    "print(porosity_series.describe())"
   ]
  },
  {
   "cell_type": "markdown",
   "id": "f7f3a4a6",
   "metadata": {},
   "source": [
    " Notice how pandas.Series.describe() gives you a quick overview of many of\n",
    "these statistics. It's a fantastic first step to understand your data at a glance. For our\n",
    "porosity data, the mean and median are quite close, suggesting a relatively symmetrical\n",
    "distribution. The standard deviation tells us that, on average, individual porosity values\n",
    "deviate by about 1.3% from the mean.\n"
   ]
  },
  {
   "cell_type": "code",
   "execution_count": null,
   "id": "f83b22a6",
   "metadata": {},
   "outputs": [],
   "source": []
  }
 ],
 "metadata": {
  "kernelspec": {
   "display_name": "GravEnv",
   "language": "python",
   "name": "gravenv"
  },
  "language_info": {
   "codemirror_mode": {
    "name": "ipython",
    "version": 3
   },
   "file_extension": ".py",
   "mimetype": "text/x-python",
   "name": "python",
   "nbconvert_exporter": "python",
   "pygments_lexer": "ipython3",
   "version": "3.9.12"
  }
 },
 "nbformat": 4,
 "nbformat_minor": 5
}
