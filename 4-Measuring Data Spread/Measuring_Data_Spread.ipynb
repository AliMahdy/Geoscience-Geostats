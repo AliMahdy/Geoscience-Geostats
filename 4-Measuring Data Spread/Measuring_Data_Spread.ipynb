{
  "nbformat": 4,
  "nbformat_minor": 0,
  "metadata": {
    "colab": {
      "provenance": []
    },
    "kernelspec": {
      "name": "python3",
      "display_name": "Python 3"
    },
    "language_info": {
      "name": "python"
    }
  },
  "cells": [
    {
      "cell_type": "code",
      "execution_count": 1,
      "metadata": {
        "colab": {
          "base_uri": "https://localhost:8080/"
        },
        "id": "h-9RhVhLCgQe",
        "outputId": "7582185e-a6c3-4b28-a04f-5fecb4dabc71"
      },
      "outputs": [
        {
          "output_type": "stream",
          "name": "stdout",
          "text": [
            "Grain Sizes Environment A: [0.2  0.3  0.25 0.28 0.32 0.27 0.29 0.31 0.26 0.3 ]\n",
            "Grain Sizes Environment B: [0.1  0.5  0.2  0.4  0.15 0.45 0.25 0.35 0.18 0.42]\n",
            "\n",
            "Mean Grain Size Environment A: 0.28 mm\n",
            "Mean Grain Size Environment B: 0.30 mm\n",
            "\n",
            "Standard Deviation Environment A: 0.0334 mm\n",
            "Standard Deviation Environment B: 0.1337 mm\n",
            "\n",
            "For Environment A, 68% of grain sizes are between 0.24 and 0.31 mm\n",
            "For Environment B, 68% of grain sizes are between 0.17 and 0.43 mm\n"
          ]
        }
      ],
      "source": [
        "import numpy as np\n",
        "# Synthetic grain size data (in mm) from two different environments\n",
        "environment_A_grain_sizes = np.array([0.2, 0.3, 0.25, 0.28, 0.32, 0.27, 0.29, 0.31, 0.26, 0.30])\n",
        "environment_B_grain_sizes = np.array([0.1, 0.5, 0.2, 0.4, 0.15, 0.45, 0.25, 0.35, 0.18, 0.42])\n",
        "print(f\"Grain Sizes Environment A: {environment_A_grain_sizes}\")\n",
        "print(f\"Grain Sizes Environment B: {environment_B_grain_sizes}\\n\")\n",
        "# Calculate means\n",
        "mean_A = np.mean(environment_A_grain_sizes)\n",
        "mean_B = np.mean(environment_B_grain_sizes)\n",
        "print(f\"Mean Grain Size Environment A: {mean_A:.2f} mm\")\n",
        "print(f\"Mean Grain Size Environment B: {mean_B:.2f} mm\\n\")\n",
        "# Calculate standard deviations\n",
        "std_dev_A = np.std(environment_A_grain_sizes)\n",
        "std_dev_B = np.std(environment_B_grain_sizes)\n",
        "print(f\"Standard Deviation Environment A: {std_dev_A:.4f} mm\")\n",
        "print(f\"Standard Deviation Environment B: {std_dev_B:.4f} mm\")\n",
        "# Visualizing the spread (conceptual)\n",
        "# For a normal distribution, approximately:\n",
        "# 68% of data falls within +/- 1 standard deviation of the mean\n",
        "# 95% of data falls within +/- 2 standard deviations of the mean\n",
        "# 99.7% of data falls within +/- 3 standard deviations of the mean\n",
        "print(f\"\\nFor Environment A, 68% of grain sizes are between {mean_A -std_dev_A:.2f} and {mean_A + std_dev_A:.2f} mm\")\n",
        "print(f\"For Environment B, 68% of grain sizes are between {mean_B -std_dev_B:.2f} and {mean_B + std_dev_B:.2f} mm\")"
      ]
    },
    {
      "cell_type": "code",
      "source": [],
      "metadata": {
        "id": "zIcrrLgFGU4u"
      },
      "execution_count": null,
      "outputs": []
    }
  ]
}